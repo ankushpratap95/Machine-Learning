{
  "nbformat": 4,
  "nbformat_minor": 0,
  "metadata": {
    "colab": {
      "name": "assignment1-quest2-ax2047.ipynb",
      "provenance": []
    },
    "kernelspec": {
      "name": "python3",
      "display_name": "Python 3"
    },
    "language_info": {
      "name": "python"
    }
  },
  "cells": [
    {
      "cell_type": "code",
      "metadata": {
        "id": "IXO6SZsmDRaO"
      },
      "source": [
        "# Importing the required libraries\n",
        "\n",
        "import numpy as np\n",
        "import matplotlib.pyplot as plt\n",
        "import scipy.io\n",
        "\n",
        "from numpy.linalg import inv, pinv, norm"
      ],
      "execution_count": 1,
      "outputs": []
    },
    {
      "cell_type": "code",
      "metadata": {
        "id": "jIMClLoxDYss"
      },
      "source": [
        "'''\n",
        " Function that returns train and test error for the passed inputs\n",
        " x-train - input training data\n",
        " y-train - output training data\n",
        " x-test - input test data\n",
        " y-test - output test data\n",
        " penalty_lambda - lambda values passed from 1 to 1000\n",
        "'''\n",
        "def polyreg(x_train=np.empty(0), y_train=np.empty(0), x_test=np.empty(0), \n",
        "            y_test=np.empty(0), penalty_lambda=0):\n",
        "  # Returning both test and train error as zero if anyone of the parameters \n",
        "  # is missing\n",
        "  if len(x_train) == 0 or len(y_train) == 0 or len(x_test) == 0 or len(\n",
        "      y_test) == 0:\n",
        "      print('Training or Test data missing')\n",
        "      return 0,0\n",
        "  \n",
        "  # Calculating theta by incorporating lambda as well\n",
        "  x_train_transpose = np.transpose(x_train)\n",
        "  x_train_transpose_x_train = np.matmul(x_train_transpose, x_train)\n",
        "  penalty_matrix = penalty_lambda * np.identity(x_train.shape[-1])\n",
        "  x_train_transpose_x_train_penalty = x_train_transpose_x_train + penalty_matrix\n",
        "  theta      = np.matmul(np.matmul(inv(x_train_transpose_x_train_penalty), \n",
        "                                   np.transpose(x_train)), y_train)\n",
        "  \n",
        "  # Taking norm of the theta  \n",
        "  theta_norm = norm(theta)\n",
        "\n",
        "  # Calculating training error \n",
        "  samples_count_train = x_train.shape[0]\n",
        "  y_pred_train = np.matmul(x_train, theta)\n",
        "  train_error  = round((np.sum(np.power(y_train-y_pred_train,2)) +  \n",
        "                penalty_lambda * (theta_norm ** 2)) * (\n",
        "                    0.5 / samples_count_train), 2)\n",
        "\n",
        "  # Calculating test error\n",
        "  samples_count_test = x_test.shape[0]\n",
        "  y_pred_train = np.matmul(x_test, theta)\n",
        "  test_error   = round((np.sum(np.power(y_test-y_pred_train,2))  +  \n",
        "                penalty_lambda * (theta_norm ** 2)) * (\n",
        "                    0.5 / samples_count_test), 2)\n",
        "\n",
        "  return train_error, test_error\n"
      ],
      "execution_count": 2,
      "outputs": []
    },
    {
      "cell_type": "code",
      "metadata": {
        "colab": {
          "base_uri": "https://localhost:8080/",
          "height": 279
        },
        "id": "PkXH2fwADbwF",
        "outputId": "d33c37d8-5cd4-4f83-9818-a43bc8152641"
      },
      "source": [
        "# Loading .mat file\n",
        "matlab_data = scipy.io.loadmat('problem2.mat')\n",
        "x_input = matlab_data['x']\n",
        "y_output = matlab_data['y']\n",
        "\n",
        "# Shuffling the data\n",
        "np.random.shuffle(x_input)\n",
        "                     \n",
        "# Dividing input and output data in two halves as train and test data \n",
        "test_size = int(x_input.shape[0] * 0.5)\n",
        "x_train, x_test = x_input[:test_size], x_input[test_size:]\n",
        "y_train, y_test = y_output[:test_size], y_output[test_size:]\n",
        "\n",
        "# Lambda values to be checked are from 1 to 1000 (Both included)\n",
        "max_lambda_limit = 1000\n",
        "train_errors_list,test_errors_list = [],[]\n",
        "for penalty_lambda in range(0, max_lambda_limit + 1):\n",
        "  train_error,test_error = polyreg(x_train=x_train, y_train=y_train, \n",
        "                                   x_test=x_test, y_test=y_test, \n",
        "                                   penalty_lambda=penalty_lambda)\n",
        "  train_errors_list.append(train_error)\n",
        "  test_errors_list.append(test_error)\n",
        "\n",
        "# Index and Min value of test error is stored from the train_errors_list\n",
        "min_test_error_value = min(test_errors_list)\n",
        "min_test_error_index = test_errors_list.index(min_test_error_value)\n",
        "\n",
        "# Plotting Train Error and Test Error graphs for different \n",
        "# degree(Cross Validation) and plotting the point with least Test error\n",
        "plt.plot(range(0,max_lambda_limit+1), train_errors_list,'b',label='Train Error')\n",
        "plt.plot(range(0,max_lambda_limit+1), test_errors_list, 'r',label='Test Error')\n",
        "plt.plot(min_test_error_index, min_test_error_value, 'D')\n",
        "plt.text(min_test_error_index, min_test_error_value, \n",
        "         \"Lambda = {0}, value = {1}\".format(min_test_error_index, \n",
        "                                            '%.3f'%min_test_error_value))\n",
        "plt.xlabel('Lambda')\n",
        "plt.ylabel('Errors')\n",
        "plt.legend()\n",
        "plt.grid()\n",
        "plt.show()\n"
      ],
      "execution_count": 3,
      "outputs": [
        {
          "output_type": "display_data",
          "data": {
            "image/png": "[encoded data removed]",
            "text/plain": [
              "<Figure size 432x288 with 1 Axes>"
            ]
          },
          "metadata": {
            "needs_background": "light"
          }
        }
      ]
    }
  ]
}